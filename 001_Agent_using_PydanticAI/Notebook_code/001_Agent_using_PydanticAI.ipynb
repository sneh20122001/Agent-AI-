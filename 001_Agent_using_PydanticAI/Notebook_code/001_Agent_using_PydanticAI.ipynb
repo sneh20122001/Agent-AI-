{
 "cells": [
  {
   "cell_type": "code",
   "execution_count": 2,
   "id": "e6cd9e94",
   "metadata": {},
   "outputs": [],
   "source": [
    "import nest_asyncio \n",
    "\n",
    "nest_asyncio.apply()"
   ]
  },
  {
   "cell_type": "code",
   "execution_count": 3,
   "id": "a14da437",
   "metadata": {},
   "outputs": [],
   "source": [
    "import os \n",
    "\n",
    "from pydantic_ai.agent import Agent\n",
    "from pydantic_ai.common_tools.tavily import tavily_search_tool"
   ]
  },
  {
   "cell_type": "code",
   "execution_count": 4,
   "id": "a8f30f12",
   "metadata": {},
   "outputs": [],
   "source": [
    "os.environ['GROQ_API_KEY'] = \"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\""
   ]
  },
  {
   "cell_type": "code",
   "execution_count": 5,
   "id": "c40f5797",
   "metadata": {},
   "outputs": [],
   "source": [
    "TAVILY_API_KEY = \"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\""
   ]
  },
  {
   "cell_type": "code",
   "execution_count": 6,
   "id": "f3b18805",
   "metadata": {},
   "outputs": [],
   "source": [
    "agent = Agent(\n",
    "    'groq:llama-3.1-8b-instant',\n",
    "    tools=[tavily_search_tool(TAVILY_API_KEY)],\n",
    "    system_prompt=\"Search Tavily for the given query and return the results.\"\n",
    ")"
   ]
  },
  {
   "cell_type": "code",
   "execution_count": 8,
   "id": "858135a3",
   "metadata": {},
   "outputs": [
    {
     "name": "stdout",
     "output_type": "stream",
     "text": [
      "The top news in the GENAI world recently includes:\n",
      "\n",
      "- GenAI in government workflows: Risk vs. reward - Thomson Reuters Legal Solutions\n",
      "- GENAI PROVIDES UPDATE ON STATUS OF ANNUAL FINANCIAL STATEMENTS – Company Announcement - Financial Times\n",
      "- Rakuten gets involved in Japanese gen AI initiative - RCR Wireless News\n",
      "- 10x Genomics and A*STAR Genome Institute of Singapore Launch TISHUMAP Study to Advance AI-Driven Drug Target Discovery - BioSpace\n",
      "- Thermo Fisher Scientific Introduces the Oncomine Comprehensive Assay Plus on the Ion Torrent Genexus System to Help Advance the Future of Precision Medicine - BioSpace\n"
     ]
    }
   ],
   "source": [
    "result = agent.run_sync(\"Tell me the top news in the GENAI world recently\")\n",
    "print(result.output)"
   ]
  },
  {
   "cell_type": "code",
   "execution_count": null,
   "id": "4987dad3",
   "metadata": {},
   "outputs": [],
   "source": []
  }
 ],
 "metadata": {
  "kernelspec": {
   "display_name": ".venv",
   "language": "python",
   "name": "python3"
  },
  "language_info": {
   "codemirror_mode": {
    "name": "ipython",
    "version": 3
   },
   "file_extension": ".py",
   "mimetype": "text/x-python",
   "name": "python",
   "nbconvert_exporter": "python",
   "pygments_lexer": "ipython3",
   "version": "3.12.10"
  }
 },
 "nbformat": 4,
 "nbformat_minor": 5
}
